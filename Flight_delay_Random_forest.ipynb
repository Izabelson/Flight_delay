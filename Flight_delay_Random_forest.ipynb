{
  "nbformat": 4,
  "nbformat_minor": 0,
  "metadata": {
    "colab": {
      "provenance": [],
      "authorship_tag": "ABX9TyP2wXZ74mqEd6NbHsntJX4N"
    },
    "kernelspec": {
      "name": "python3",
      "display_name": "Python 3"
    },
    "language_info": {
      "name": "python"
    },
    "accelerator": "GPU",
    "gpuClass": "standard"
  },
  "cells": [
    {
      "cell_type": "code",
      "execution_count": 1,
      "metadata": {
        "id": "visaWRVh14uw"
      },
      "outputs": [],
      "source": [
        "import pandas as pd\n",
        "import numpy as np\n",
        "import seaborn as sns\n",
        "import matplotlib.pyplot as plt\n",
        "\n",
        "from datetime import datetime\n",
        "\n",
        "from google.colab import files\n",
        "import io\n",
        "\n",
        "from sklearn.tree import DecisionTreeClassifier\n",
        "from sklearn.ensemble import RandomForestClassifier\n",
        "from sklearn import tree\n",
        "from sklearn.tree import plot_tree\n",
        "from sklearn.model_selection import train_test_split\n",
        "from sklearn.model_selection import KFold, LeaveOneOut, cross_val_score, cross_val_predict\n",
        "#from sklearn import metrics, linear_model\n",
        "from sklearn.metrics import r2_score\n",
        "from sklearn.metrics import mean_absolute_error, mean_squared_error\n",
        "from sklearn.model_selection import GridSearchCV\n",
        "from sklearn.metrics import confusion_matrix, classification_report, accuracy_score, roc_auc_score"
      ]
    },
    {
      "cell_type": "code",
      "source": [
        "from google.colab import drive\n",
        "drive.mount('/content/drive')"
      ],
      "metadata": {
        "colab": {
          "base_uri": "https://localhost:8080/"
        },
        "id": "frczJgnWClJD",
        "outputId": "8c33bf88-e4b5-49cd-e615-21f0276b8209"
      },
      "execution_count": 2,
      "outputs": [
        {
          "output_type": "stream",
          "name": "stdout",
          "text": [
            "Mounted at /content/drive\n"
          ]
        }
      ]
    },
    {
      "cell_type": "code",
      "source": [
        "flights = pd.read_csv('/content/drive/MyDrive/DataScience/Projekt końcowy/flights_data_new.csv', low_memory=True)"
      ],
      "metadata": {
        "id": "nNA0YWHNCYd0"
      },
      "execution_count": 3,
      "outputs": []
    },
    {
      "cell_type": "code",
      "source": [],
      "metadata": {
        "id": "bKmPtYNYX_g6"
      },
      "execution_count": null,
      "outputs": []
    },
    {
      "cell_type": "code",
      "source": [
        "y = flights['FLIGHT_STATUS'].copy()\n",
        "X = flights.drop('FLIGHT_STATUS', axis=1).copy()"
      ],
      "metadata": {
        "id": "mdxsOGDHRjkT"
      },
      "execution_count": 4,
      "outputs": []
    },
    {
      "cell_type": "code",
      "source": [
        "X_train, X_test, y_train, y_test = train_test_split(X, y, train_size=0.7, random_state=12)\n",
        "X_train, X_valid, y_train, y_valid = train_test_split(X_train, y_train, train_size=0.7, random_state=12)"
      ],
      "metadata": {
        "id": "SJT5L_JPRs-S"
      },
      "execution_count": 5,
      "outputs": []
    },
    {
      "cell_type": "code",
      "source": [
        "random_forest_model = RandomForestClassifier(random_state=111)\n",
        "random_forest_classifier = random_forest_model.fit(X_train,y_train)"
      ],
      "metadata": {
        "id": "mh83HErdC8WC"
      },
      "execution_count": 6,
      "outputs": []
    },
    {
      "cell_type": "code",
      "source": [
        "y_pred_randomforest = random_forest_model.predict(X_test)\n",
        "print(\"Random Forest Clasifier Train Accuracy : {} %\".format(random_forest_classifier.score(X_train,\n",
        "                                                                                            y_train)*100))\n",
        "print(\"Random Forest Clasifier Test Accuracy : {} %\".format(random_forest_classifier.score(X_valid,\n",
        "                                                                                            y_valid)*100))"
      ],
      "metadata": {
        "colab": {
          "base_uri": "https://localhost:8080/"
        },
        "id": "G4nCAwPNCYYN",
        "outputId": "f49dcb0f-c294-4519-bc81-064c1fa6692f"
      },
      "execution_count": 7,
      "outputs": [
        {
          "output_type": "stream",
          "name": "stdout",
          "text": [
            "Random Forest Clasifier Train Accuracy : 93.81682253007851 %\n",
            "Random Forest Clasifier Test Accuracy : 81.64994216762011 %\n"
          ]
        }
      ]
    },
    {
      "cell_type": "code",
      "source": [
        "y_true = np.array(y_valid)\n",
        "y_pred = random_forest_model.predict(X_valid)\n",
        "\n",
        "cm = confusion_matrix(y_true, y_pred)\n",
        "clr = classification_report(y_true, y_pred, target_names=[\"NOT DELAYED\", \"DELAYED\"])\n",
        "\n",
        "plt.figure(figsize=(8, 8))\n",
        "sns.heatmap(cm, annot=True, vmin=0, fmt='g', cmap='Blues', cbar=False)\n",
        "plt.xticks(np.arange(2) + 0.5, [\"NOT DELAYED\", \"DELAYED\"])\n",
        "plt.yticks(np.arange(2) + 0.5, [\"NOT DELAYED\", \"DELAYED\"])\n",
        "plt.xlabel(\"Predicted\")\n",
        "plt.ylabel(\"Actual\")\n",
        "plt.title(\"Confusion Matrix\")\n",
        "plt.show()\n",
        "\n",
        "print(\"Classification Report:\\n----------------------\\n\", clr)\n"
      ],
      "metadata": {
        "colab": {
          "base_uri": "https://localhost:8080/",
          "height": 716
        },
        "id": "20pIVRHtS9oG",
        "outputId": "317a526b-f0b4-4eb6-ebce-353facb6cea8"
      },
      "execution_count": 8,
      "outputs": [
        {
          "output_type": "display_data",
          "data": {
            "text/plain": [
              "<Figure size 576x576 with 1 Axes>"
            ],
            "image/png": "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\n"
          },
          "metadata": {
            "needs_background": "light"
          }
        },
        {
          "output_type": "stream",
          "name": "stdout",
          "text": [
            "Classification Report:\n",
            "----------------------\n",
            "               precision    recall  f1-score   support\n",
            "\n",
            " NOT DELAYED       0.83      0.89      0.86     19622\n",
            "     DELAYED       0.80      0.71      0.75     12367\n",
            "\n",
            "    accuracy                           0.82     31989\n",
            "   macro avg       0.81      0.80      0.80     31989\n",
            "weighted avg       0.82      0.82      0.81     31989\n",
            "\n"
          ]
        }
      ]
    },
    {
      "cell_type": "markdown",
      "source": [
        "# hyperparameters evaluation"
      ],
      "metadata": {
        "id": "oh0qyWkRYiqm"
      }
    },
    {
      "cell_type": "code",
      "source": [
        "print('Parameters currently in use:\\n')\n",
        "print(random_forest_model.get_params())"
      ],
      "metadata": {
        "colab": {
          "base_uri": "https://localhost:8080/"
        },
        "id": "c889o8LoqKLk",
        "outputId": "b2bba6a1-a78b-42dd-b834-086bfe9a07c7"
      },
      "execution_count": 9,
      "outputs": [
        {
          "output_type": "stream",
          "name": "stdout",
          "text": [
            "Parameters currently in use:\n",
            "\n",
            "{'bootstrap': True, 'ccp_alpha': 0.0, 'class_weight': None, 'criterion': 'gini', 'max_depth': None, 'max_features': 'auto', 'max_leaf_nodes': None, 'max_samples': None, 'min_impurity_decrease': 0.0, 'min_samples_leaf': 1, 'min_samples_split': 2, 'min_weight_fraction_leaf': 0.0, 'n_estimators': 100, 'n_jobs': None, 'oob_score': False, 'random_state': 111, 'verbose': 0, 'warm_start': False}\n"
          ]
        }
      ]
    },
    {
      "cell_type": "code",
      "source": [
        "from sklearn.model_selection import RandomizedSearchCV\n",
        "\n",
        "# Number of trees in random forest\n",
        "n_estimators = [10, 30, 50, 100, 300, 500, 800, 1000]\n", #zostawic1000
        "# Number of features to consider at every split\n",
        "max_features = ['sqrt', 'log2', None]\n", #wyrzucicNone
        "# Maximum number of levels in tree\n",
        "max_depth = [3, 6, 10, 20, 50, 70, 100]\n",
        "max_leaf_nodes = [3, 5, 10, 20, 50]\n",
        "# Minimum number of samples required to split a node\n",
        "min_samples_split = [2, 5, 10]\n",
        "# Minimum number of samples required at each leaf node\n",
        "min_samples_leaf = [1, 2, 4, 10]\n", #od0do1
        "# Method of selecting samples for training each tree\n",
        "bootstrap = [True, False]\n", #zostawićTrue
        "# Create the random grid\n"
      ],
      "metadata": {
        "id": "JW_t-kRgS9lI"
      },
      "execution_count": 11,
      "outputs": []
    },
    {
      "cell_type": "code",
      "source": [
        "param_grid = {'n_estimators': n_estimators,\n",
        "               'max_features': max_features,\n",
        "               'max_depth': max_depth,\n",
        "               'min_samples_split': min_samples_split,\n",
        "               'min_samples_leaf': min_samples_leaf,\n",
        "               'bootstrap': bootstrap}\n",
        "print(param_grid)\n",
        "\n",
        "\n"
      ],
      "metadata": {
        "colab": {
          "base_uri": "https://localhost:8080/"
        },
        "id": "sn6e3bSfS9g-",
        "outputId": "59b19963-a7e7-4e1c-a1fb-3b0ba175c279"
      },
      "execution_count": 12,
      "outputs": [
        {
          "output_type": "stream",
          "name": "stdout",
          "text": [
            "{'n_estimators': [10, 30, 50, 100, 300, 500, 800, 1000], 'max_features': ['sqrt', 'log2', None], 'max_depth': [3, 6, 10, 20, 50, 70, 100], 'min_samples_split': [2, 5, 10], 'min_samples_leaf': [1, 2, 4, 10], 'bootstrap': [True, False]}\n"
          ]
        }
      ]
    },
    {
      "cell_type": "code",
      "source": [
        "# Evaluation of the hyperparameters in these dataset was impossible because of duration\n",
        "\n",
        "grid_search = GridSearchCV(RandomForestClassifier(),\n",
        "                           param_grid=param_grid)\n",
        "grid_search.fit(X_train, y_train)\n",
        "print(grid_search.best_estimator_)"
      ],
      "metadata": {
        "id": "MZgHwU1iH2YU"
      },
      "execution_count": null,
      "outputs": []
    },
    {
      "cell_type": "code",
      "source": [
        "random_search = RandomizedSearchCV(RandomForestClassifier(),\n",
        "                                   param_grid, \n",
        "                                   n_iter = 100, \n",
        "                                   cv = 3, \n",
        "                                   verbose=2, \n",
        "                                   random_state=111, \n",
        "                                   n_jobs = -1)\n",
        "random_search.fit(X_train, y_train)\n",
        "print(random_search.best_estimator_)"
      ],
      "metadata": {
        "id": "YuOOB2eSH5Qv"
      },
      "execution_count": null,
      "outputs": []
    },
    {
      "cell_type": "code",
      "source": [
        "base_model = RandomForestRegressor(n_estimators = 10, random_state = 111)\n",
        "base_model.fit(X_train, Y_train)\n",
        "base_accuracy = evaluate(base_model, X_test, Y_test)"
      ],
      "metadata": {
        "id": "ns3rHaehH8kY"
      },
      "execution_count": null,
      "outputs": []
    },
    {
      "cell_type": "code",
      "source": [],
      "metadata": {
        "id": "zIwnWurplwtz"
      },
      "execution_count": null,
      "outputs": []
    },
    {
      "cell_type": "code",
      "source": [],
      "metadata": {
        "id": "InM8XO1_lwq-"
      },
      "execution_count": null,
      "outputs": []
    },
    {
      "cell_type": "code",
      "source": [],
      "metadata": {
        "id": "EeP3p5SAlwn6"
      },
      "execution_count": null,
      "outputs": []
    }
  ]
}
